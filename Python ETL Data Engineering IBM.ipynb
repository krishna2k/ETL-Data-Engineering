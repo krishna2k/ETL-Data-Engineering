{
 "cells": [
  {
   "cell_type": "code",
   "execution_count": 4,
   "id": "8cd1384a",
   "metadata": {},
   "outputs": [
    {
     "name": "stdout",
     "output_type": "stream",
     "text": [
      "Requirement already satisfied: numpy in c:\\users\\krish\\anaconda3\\lib\\site-packages (1.26.4)\n",
      "Requirement already satisfied: pandas in c:\\users\\krish\\anaconda3\\lib\\site-packages (1.4.4)\n",
      "Requirement already satisfied: wget in c:\\users\\krish\\anaconda3\\lib\\site-packages (3.2)\n",
      "Requirement already satisfied: bs4 in c:\\users\\krish\\anaconda3\\lib\\site-packages (0.0.2)\n",
      "Requirement already satisfied: pytz>=2020.1 in c:\\users\\krish\\anaconda3\\lib\\site-packages (from pandas) (2022.1)\n",
      "Requirement already satisfied: python-dateutil>=2.8.1 in c:\\users\\krish\\anaconda3\\lib\\site-packages (from pandas) (2.8.2)\n",
      "Requirement already satisfied: beautifulsoup4 in c:\\users\\krish\\anaconda3\\lib\\site-packages (from bs4) (4.11.1)\n",
      "Requirement already satisfied: six>=1.5 in c:\\users\\krish\\anaconda3\\lib\\site-packages (from python-dateutil>=2.8.1->pandas) (1.16.0)\n",
      "Requirement already satisfied: soupsieve>1.2 in c:\\users\\krish\\anaconda3\\lib\\site-packages (from beautifulsoup4->bs4) (2.3.1)\n",
      "Note: you may need to restart the kernel to use updated packages.\n"
     ]
    }
   ],
   "source": [
    "pip install numpy pandas wget bs4"
   ]
  },
  {
   "cell_type": "code",
   "execution_count": 6,
   "id": "a5d41d18",
   "metadata": {},
   "outputs": [
    {
     "name": "stdout",
     "output_type": "stream",
     "text": [
      "100% [....................................................................................] 45 / 45"
     ]
    },
    {
     "data": {
      "text/plain": [
       "'exchange_rate.csv'"
      ]
     },
     "execution_count": 6,
     "metadata": {},
     "output_type": "execute_result"
    }
   ],
   "source": [
    "import wget\n",
    "wget.download('https://cf-courses-data.s3.us.cloud-object-storage.appdomain.cloud/IBMSkillsNetwork-PY0221EN-Coursera/labs/v2/exchange_rate.csv')"
   ]
  },
  {
   "cell_type": "code",
   "execution_count": 9,
   "id": "9ee06ace",
   "metadata": {},
   "outputs": [],
   "source": [
    "# Import Libraries"
   ]
  },
  {
   "cell_type": "code",
   "execution_count": 77,
   "id": "e7115125",
   "metadata": {},
   "outputs": [],
   "source": [
    "import requests\n",
    "import sqlite3\n",
    "import numpy as np\n",
    "import pandas as pd\n",
    "from bs4 import BeautifulSoup\n",
    "from datetime import datetime\n",
    "\n",
    "# Suppress generated warnings\n",
    "def warn(*args, **kwargs):\n",
    "    pass\n",
    "import warnings\n",
    "warnings.warn = warn\n",
    "warnings.filterwarnings('ignore')"
   ]
  },
  {
   "cell_type": "code",
   "execution_count": 78,
   "id": "0b8a8b4b",
   "metadata": {},
   "outputs": [],
   "source": [
    "#Task 1 Logging Functions"
   ]
  },
  {
   "cell_type": "code",
   "execution_count": 79,
   "id": "89cfaf13",
   "metadata": {},
   "outputs": [],
   "source": [
    "def log_progress(message):\n",
    "\n",
    "    timestamp_format = \"%Y-%h-%d-%H:%M:%S\" # Year-Monthname-Day-Hour-Minute-Second\n",
    "    now = datetime.now() # get current timestamp\n",
    "    timestamp = now.strftime(timestamp_format)\n",
    "    with open(log_file,\"a\") as f:\n",
    "        f.write(timestamp + \" : \" + message + \"\\n\")"
   ]
  },
  {
   "cell_type": "code",
   "execution_count": 80,
   "id": "0d654d13",
   "metadata": {},
   "outputs": [],
   "source": [
    "# Extraction of Data"
   ]
  },
  {
   "cell_type": "code",
   "execution_count": 81,
   "id": "88b745e7",
   "metadata": {},
   "outputs": [],
   "source": [
    "def extract(url, table_attribs):\n",
    "   \n",
    "    page = requests.get(url).text\n",
    "    soup = BeautifulSoup(page, \"html.parser\")\n",
    "\n",
    "    df = pd.DataFrame(columns=table_attribs)\n",
    "\n",
    "    tables = soup.find_all(\"tbody\")\n",
    "    rows = tables[0].find_all(\"tr\")\n",
    "\n",
    "    for row in rows:\n",
    "        col = row.find_all(\"td\")\n",
    "        if len(col) != 0:\n",
    "            data_dict = {\"Name\": col[1].find_all(\"a\")[1][\"title\"],\n",
    "                         \"MC_USD_Billion\": float(col[2].contents[0][:-1])}\n",
    "            df1 = pd.DataFrame(data_dict, index=[0])\n",
    "            df = pd.concat([df, df1], ignore_index=True)\n",
    "\n",
    "    return df"
   ]
  },
  {
   "cell_type": "code",
   "execution_count": 82,
   "id": "226c3ab3",
   "metadata": {},
   "outputs": [],
   "source": [
    "#Task 3 Transforming Data"
   ]
  },
  {
   "cell_type": "code",
   "execution_count": 83,
   "id": "272e9611",
   "metadata": {},
   "outputs": [],
   "source": [
    "def transform(df, csv_path):\n",
    "\n",
    "    # Read exchange rate CSV file\n",
    "    exchange_rate = pd.read_csv(csv_path)\n",
    "\n",
    "    # Convert to a dictionary with \"Currency\" as keys and \"Rate\" as values\n",
    "    exchange_rate = exchange_rate.set_index(\"Currency\").to_dict()[\"Rate\"]\n",
    "\n",
    "    # Add MC_GBP_Billion, MC_EUR_Billion, and MC_INR_Billion\n",
    "    # columns to dataframe. Round off to two decimals\n",
    "    df[\"MC_GBP_Billion\"] = [np.round(x * exchange_rate[\"GBP\"], 2) for x in df[\"MC_USD_Billion\"]]\n",
    "    df[\"MC_EUR_Billion\"] = [np.round(x * exchange_rate[\"EUR\"], 2) for x in df[\"MC_USD_Billion\"]]\n",
    "    df[\"MC_INR_Billion\"] = [np.round(x * exchange_rate[\"INR\"], 2) for x in df[\"MC_USD_Billion\"]]\n",
    "\n",
    "    return df"
   ]
  },
  {
   "cell_type": "code",
   "execution_count": 84,
   "id": "3f7b491a",
   "metadata": {},
   "outputs": [],
   "source": [
    "#Task 4 Loading to CSV"
   ]
  },
  {
   "cell_type": "code",
   "execution_count": 101,
   "id": "acac5edd",
   "metadata": {},
   "outputs": [],
   "source": [
    "def load_to_csv(df, output_path):\n",
    "    df.to_csv(output_path)"
   ]
  },
  {
   "cell_type": "code",
   "execution_count": 86,
   "id": "c54468f4",
   "metadata": {},
   "outputs": [],
   "source": [
    "# Task 5 Load to DB"
   ]
  },
  {
   "cell_type": "code",
   "execution_count": 87,
   "id": "9205589b",
   "metadata": {},
   "outputs": [],
   "source": [
    "def load_to_db(df, sql_connection, table_name):\n",
    "    df.to_sql(table_name, sql_connection, if_exists='replace', index=False)"
   ]
  },
  {
   "cell_type": "code",
   "execution_count": 88,
   "id": "d258ae50",
   "metadata": {},
   "outputs": [],
   "source": [
    "# Task 6: Function to Run queries on Database"
   ]
  },
  {
   "cell_type": "code",
   "execution_count": 89,
   "id": "4710fc97",
   "metadata": {},
   "outputs": [],
   "source": [
    "def run_query(query_statement, sql_connection):\n",
    "    print(query_statement)\n",
    "    query_output = pd.read_sql(query_statement, sql_connection)\n",
    "    print(query_output)"
   ]
  },
  {
   "cell_type": "code",
   "execution_count": 94,
   "id": "67ffd9ac",
   "metadata": {},
   "outputs": [],
   "source": [
    "url = \"https://web.archive.org/web/20230908091635/https://en.wikipedia.org/wiki/List_of_largest_banks\"\n",
    "csv_path = \"C:/Users/krish/OneDrive/Desktop/exchange_rate.csv\"\n",
    "table_attribs = [\"Name\", \"MC_USD_Billion\"]\n",
    "output_path = \"C:/Users/krish/Downloads/Largest_banks_data.csv\"\n",
    "db_name = \"Banks.db\"\n",
    "table_name = \"Largest_banks\"\n",
    "log_file = \"C:/Users/krish/Downloads/code_log.txt\"\n",
    "\n",
    "log_progress(\"Preliminaries complete. Initiating ETL process\")"
   ]
  },
  {
   "cell_type": "code",
   "execution_count": null,
   "id": "3e7f0cc5",
   "metadata": {},
   "outputs": [],
   "source": [
    "# Calling extract() "
   ]
  },
  {
   "cell_type": "code",
   "execution_count": 96,
   "id": "999fe8f9",
   "metadata": {},
   "outputs": [
    {
     "name": "stdout",
     "output_type": "stream",
     "text": [
      "                                      Name  MC_USD_Billion\n",
      "0                           JPMorgan Chase          432.92\n",
      "1                          Bank of America          231.52\n",
      "2  Industrial and Commercial Bank of China          194.56\n",
      "3               Agricultural Bank of China          160.68\n",
      "4                                HDFC Bank          157.91\n",
      "5                              Wells Fargo          155.87\n",
      "6                                     HSBC          148.90\n",
      "7                           Morgan Stanley          140.83\n",
      "8                  China Construction Bank          139.82\n",
      "9                            Bank of China          136.81\n"
     ]
    }
   ],
   "source": [
    "df = extract(url, table_attribs)\n",
    "print(df)\n",
    "\n",
    "log_progress(\"Data extraction complete. Initiating Transformation process\")"
   ]
  },
  {
   "cell_type": "code",
   "execution_count": 97,
   "id": "b824b02f",
   "metadata": {},
   "outputs": [],
   "source": [
    "# Calling transform()"
   ]
  },
  {
   "cell_type": "code",
   "execution_count": 98,
   "id": "06fdd099",
   "metadata": {},
   "outputs": [
    {
     "name": "stdout",
     "output_type": "stream",
     "text": [
      "                                      Name  MC_USD_Billion  MC_GBP_Billion  \\\n",
      "0                           JPMorgan Chase          432.92          346.34   \n",
      "1                          Bank of America          231.52          185.22   \n",
      "2  Industrial and Commercial Bank of China          194.56          155.65   \n",
      "3               Agricultural Bank of China          160.68          128.54   \n",
      "4                                HDFC Bank          157.91          126.33   \n",
      "5                              Wells Fargo          155.87          124.70   \n",
      "6                                     HSBC          148.90          119.12   \n",
      "7                           Morgan Stanley          140.83          112.66   \n",
      "8                  China Construction Bank          139.82          111.86   \n",
      "9                            Bank of China          136.81          109.45   \n",
      "\n",
      "   MC_EUR_Billion  MC_INR_Billion  \n",
      "0          402.62        35910.71  \n",
      "1          215.31        19204.58  \n",
      "2          180.94        16138.75  \n",
      "3          149.43        13328.41  \n",
      "4          146.86        13098.63  \n",
      "5          144.96        12929.42  \n",
      "6          138.48        12351.26  \n",
      "7          130.97        11681.85  \n",
      "8          130.03        11598.07  \n",
      "9          127.23        11348.39  \n"
     ]
    }
   ],
   "source": [
    "df = transform(df, csv_path)\n",
    "print(df)\n",
    "\n",
    "log_progress(\"Data transformation complete. Initiating Loading process\")"
   ]
  },
  {
   "cell_type": "code",
   "execution_count": 99,
   "id": "45b6a362",
   "metadata": {},
   "outputs": [],
   "source": [
    "#Calling load to csv"
   ]
  },
  {
   "cell_type": "code",
   "execution_count": 102,
   "id": "9df037d6",
   "metadata": {},
   "outputs": [],
   "source": [
    "load_to_csv(df, output_path)\n",
    "\n",
    "log_progress(\"Data saved to CSV file\")"
   ]
  },
  {
   "cell_type": "code",
   "execution_count": 103,
   "id": "f736b2c9",
   "metadata": {},
   "outputs": [],
   "source": [
    "# SQL connection"
   ]
  },
  {
   "cell_type": "code",
   "execution_count": 104,
   "id": "a0651f47",
   "metadata": {},
   "outputs": [],
   "source": [
    "sql_connection = sqlite3.connect(db_name)\n",
    "\n",
    "log_progress(\"SQL Connection initiated\")"
   ]
  },
  {
   "cell_type": "code",
   "execution_count": 105,
   "id": "593b8220",
   "metadata": {},
   "outputs": [],
   "source": [
    "# Calling ;load to db"
   ]
  },
  {
   "cell_type": "code",
   "execution_count": 106,
   "id": "31102ad6",
   "metadata": {},
   "outputs": [],
   "source": [
    "load_to_db(df, sql_connection, table_name)\n",
    "\n",
    "log_progress(\"Data loaded to Database as a table, Executing queries\")"
   ]
  },
  {
   "cell_type": "code",
   "execution_count": 107,
   "id": "73026600",
   "metadata": {},
   "outputs": [],
   "source": [
    "# Printing entire table"
   ]
  },
  {
   "cell_type": "code",
   "execution_count": 111,
   "id": "88e64b8d",
   "metadata": {},
   "outputs": [
    {
     "name": "stdout",
     "output_type": "stream",
     "text": [
      "SELECT * from Largest_banks\n",
      "                                      Name  MC_USD_Billion  MC_GBP_Billion  \\\n",
      "0                           JPMorgan Chase          432.92          346.34   \n",
      "1                          Bank of America          231.52          185.22   \n",
      "2  Industrial and Commercial Bank of China          194.56          155.65   \n",
      "3               Agricultural Bank of China          160.68          128.54   \n",
      "4                                HDFC Bank          157.91          126.33   \n",
      "5                              Wells Fargo          155.87          124.70   \n",
      "6                                     HSBC          148.90          119.12   \n",
      "7                           Morgan Stanley          140.83          112.66   \n",
      "8                  China Construction Bank          139.82          111.86   \n",
      "9                            Bank of China          136.81          109.45   \n",
      "\n",
      "   MC_EUR_Billion  MC_INR_Billion  \n",
      "0          402.62        35910.71  \n",
      "1          215.31        19204.58  \n",
      "2          180.94        16138.75  \n",
      "3          149.43        13328.41  \n",
      "4          146.86        13098.63  \n",
      "5          144.96        12929.42  \n",
      "6          138.48        12351.26  \n",
      "7          130.97        11681.85  \n",
      "8          130.03        11598.07  \n",
      "9          127.23        11348.39  \n"
     ]
    }
   ],
   "source": [
    "query_statement = f\"SELECT * from {table_name}\"\n",
    "run_query(query_statement, sql_connection)"
   ]
  },
  {
   "cell_type": "code",
   "execution_count": 114,
   "id": "6dc921dd",
   "metadata": {},
   "outputs": [
    {
     "name": "stdout",
     "output_type": "stream",
     "text": [
      "SELECT AVG(MC_GBP_Billion) FROM Largest_banks\n",
      "   AVG(MC_GBP_Billion)\n",
      "0              151.987\n"
     ]
    }
   ],
   "source": [
    "query_statement2 = f\"SELECT AVG(MC_GBP_Billion) FROM {table_name}\"\n",
    "run_query(query_statement2, sql_connection)"
   ]
  },
  {
   "cell_type": "code",
   "execution_count": 116,
   "id": "61a45b11",
   "metadata": {},
   "outputs": [
    {
     "name": "stdout",
     "output_type": "stream",
     "text": [
      "SELECT NAME FROM Largest_banks LIMIT 5\n",
      "                                      Name\n",
      "0                           JPMorgan Chase\n",
      "1                          Bank of America\n",
      "2  Industrial and Commercial Bank of China\n",
      "3               Agricultural Bank of China\n",
      "4                                HDFC Bank\n"
     ]
    }
   ],
   "source": [
    "query_statement3 = f\"SELECT NAME FROM {table_name} LIMIT 5\"\n",
    "run_query(query_statement3, sql_connection)\n",
    "\n",
    "log_progress(\"Process Complete\")"
   ]
  },
  {
   "cell_type": "code",
   "execution_count": 117,
   "id": "165a93d9",
   "metadata": {},
   "outputs": [],
   "source": [
    "sql_connection.close()\n",
    "\n",
    "log_progress(\"Server Connection Closed\")"
   ]
  },
  {
   "cell_type": "code",
   "execution_count": 118,
   "id": "aabe848c",
   "metadata": {},
   "outputs": [],
   "source": [
    "# TASK 7 Verify log entries"
   ]
  },
  {
   "cell_type": "code",
   "execution_count": 119,
   "id": "fee56d30",
   "metadata": {},
   "outputs": [
    {
     "name": "stdout",
     "output_type": "stream",
     "text": [
      "2024-Jul-28-19:21:37 : Preliminaries complete. Initiating ETL process\n",
      "2024-Jul-28-19:22:44 : Data extraction complete. Initiating Transformation process\n",
      "2024-Jul-28-19:24:25 : Preliminaries complete. Initiating ETL process\n",
      "2024-Jul-28-19:26:14 : Preliminaries complete. Initiating ETL process\n",
      "2024-Jul-28-19:28:33 : Preliminaries complete. Initiating ETL process\n",
      "2024-Jul-28-19:28:58 : Preliminaries complete. Initiating ETL process\n",
      "2024-Jul-28-19:29:46 : Preliminaries complete. Initiating ETL process\n",
      "2024-Jul-28-19:29:50 : Data extraction complete. Initiating Transformation process\n",
      "2024-Jul-28-19:38:08 : Preliminaries complete. Initiating ETL process\n",
      "2024-Jul-28-19:38:54 : Data extraction complete. Initiating Transformation process\n",
      "2024-Jul-28-19:40:03 : Preliminaries complete. Initiating ETL process\n",
      "2024-Jul-28-19:40:13 : Data extraction complete. Initiating Transformation process\n",
      "2024-Jul-28-19:40:35 : Preliminaries complete. Initiating ETL process\n",
      "2024-Jul-28-19:40:36 : Data extraction complete. Initiating Transformation process\n",
      "2024-Jul-28-19:42:51 : Preliminaries complete. Initiating ETL process\n",
      "2024-Jul-28-19:42:54 : Data extraction complete. Initiating Transformation process\n",
      "2024-Jul-28-23:33:56 : Preliminaries complete. Initiating ETL process\n",
      "2024-Jul-28-23:34:29 : Data extraction complete. Initiating Transformation process\n",
      "2024-Jul-28-23:34:41 : Data transformation complete. Initiating Loading process\n",
      "2024-Jul-28-23:36:12 : Data saved to CSV file\n",
      "2024-Jul-28-23:36:45 : SQL Connection initiated\n",
      "2024-Jul-28-23:37:48 : Data loaded to Database as a table, Executing queries\n",
      "2024-Jul-28-23:43:43 : Process Complete\n",
      "2024-Jul-28-23:43:50 : Process Complete\n",
      "2024-Jul-28-23:44:25 : Server Connection Closed\n",
      "\n"
     ]
    }
   ],
   "source": [
    "with open(log_file, \"r\") as log:\n",
    "    LogContent = log.read()\n",
    "    print(LogContent)"
   ]
  },
  {
   "cell_type": "code",
   "execution_count": null,
   "id": "e696ae73",
   "metadata": {},
   "outputs": [],
   "source": []
  }
 ],
 "metadata": {
  "kernelspec": {
   "display_name": "Python 3 (ipykernel)",
   "language": "python",
   "name": "python3"
  },
  "language_info": {
   "codemirror_mode": {
    "name": "ipython",
    "version": 3
   },
   "file_extension": ".py",
   "mimetype": "text/x-python",
   "name": "python",
   "nbconvert_exporter": "python",
   "pygments_lexer": "ipython3",
   "version": "3.9.13"
  }
 },
 "nbformat": 4,
 "nbformat_minor": 5
}
